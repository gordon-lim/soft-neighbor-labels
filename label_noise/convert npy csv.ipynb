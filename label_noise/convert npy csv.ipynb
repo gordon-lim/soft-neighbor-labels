{
 "cells": [
  {
   "cell_type": "code",
   "execution_count": null,
   "id": "e66fc58d-3eef-4484-862e-e18328321f58",
   "metadata": {},
   "outputs": [],
   "source": [
    "import numpy as np\n",
    "import pandas as pd"
   ]
  },
  {
   "cell_type": "markdown",
   "id": "316809dd-7f39-4b64-b4c1-bef8cc778408",
   "metadata": {},
   "source": [
    "# npy -> csv"
   ]
  },
  {
   "cell_type": "code",
   "execution_count": null,
   "id": "8f44864f-5842-4beb-b048-2cf3ac50c749",
   "metadata": {},
   "outputs": [],
   "source": [
    "noisy_y = np.load('cifar10-cluster-0.35.npy')"
   ]
  },
  {
   "cell_type": "code",
   "execution_count": null,
   "id": "f21a7a2a-973a-410a-aee2-0ae4152ac2e4",
   "metadata": {},
   "outputs": [],
   "source": [
    "csv_df = pd.read_csv('cifar10-cluster-0.35.csv')"
   ]
  },
  {
   "cell_type": "code",
   "execution_count": null,
   "id": "c9986dda-150d-4761-b94d-b5f5f8a63b78",
   "metadata": {},
   "outputs": [],
   "source": [
    "csv_df['noisy_label'] = noisy_y"
   ]
  },
  {
   "cell_type": "code",
   "execution_count": null,
   "id": "271068ac-a818-4ccc-9cf4-9788dd9a36c8",
   "metadata": {},
   "outputs": [],
   "source": [
    "csv_df.to_csv('cifar10-cluster-0.35.csv', index=False)"
   ]
  },
  {
   "cell_type": "markdown",
   "id": "0c9f6a56-8153-4b5e-ad67-4e3e38a4b4c5",
   "metadata": {},
   "source": [
    "# csv -> npy    "
   ]
  },
  {
   "cell_type": "code",
   "execution_count": null,
   "id": "efed8d48-0596-4bc1-a384-df77905274ac",
   "metadata": {},
   "outputs": [],
   "source": [
    "csv_df = pd.read_csv('cifar10-cluster-0.35.csv')"
   ]
  },
  {
   "cell_type": "code",
   "execution_count": null,
   "id": "30eaf1cd-e56f-48c8-9ab4-f721b6957f1c",
   "metadata": {},
   "outputs": [],
   "source": [
    "noisy_labels_array = csv_df['noisy_label'].values  # Convert to numpy array"
   ]
  },
  {
   "cell_type": "code",
   "execution_count": null,
   "id": "b0d77377-7f06-4edd-8a3a-542146479622",
   "metadata": {},
   "outputs": [],
   "source": [
    "np.save('cifar10-cluster-0.35.npy', noisys_labels_array)"
   ]
  }
 ],
 "metadata": {
  "kernelspec": {
   "display_name": "Python 3 (ipykernel)",
   "language": "python",
   "name": "python3"
  },
  "language_info": {
   "codemirror_mode": {
    "name": "ipython",
    "version": 3
   },
   "file_extension": ".py",
   "mimetype": "text/x-python",
   "name": "python",
   "nbconvert_exporter": "python",
   "pygments_lexer": "ipython3",
   "version": "3.10.12"
  }
 },
 "nbformat": 4,
 "nbformat_minor": 5
}
